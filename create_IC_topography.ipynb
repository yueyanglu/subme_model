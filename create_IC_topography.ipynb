{
 "cells": [
  {
   "cell_type": "markdown",
   "id": "6cb1f878-a882-4fdf-b803-ee07493b71b4",
   "metadata": {},
   "source": [
    "# Create topography and save it in directory INPUT/ as a nc file\n",
    " - Used to run MOM6 as one of the initial conditions.\n",
    " - Topography is independent of type of vertical coordinate.\n",
    "\n",
    "\n",
    "For the model, specify the following in the MOM_input file:\n",
    "\n",
    "TOPO_CONFIG = \"file\"             !   \\\n",
    "TOPO_FILE = \"topog.nc\"           ! default = \"topog.nc\"\\\n",
    "                                 ! The file from which the bathymetry is read.\\\n",
    "TOPO_VARNAME = \"depth\"           ! default = \"depth\" \\\n",
    "                                 ! The name of the bathymetry variable in TOPO_FILE."
   ]
  },
  {
   "cell_type": "code",
   "execution_count": 27,
   "id": "cf8d5c5f-03c0-4ea4-8d16-42bdb5ef987d",
   "metadata": {},
   "outputs": [],
   "source": [
    "clear\n",
    "homedir = getenv('HOME');\n",
    "workdir = getenv('WORK');\n",
    "scradir = getenv('SCRATCH');\n",
    "addpath(genpath([homedir '/work_MOM']));\n",
    "addpath(genpath([homedir '/mytoolbox']));\n",
    "addpath(genpath([homedir '/MyFuncs']));"
   ]
  },
  {
   "cell_type": "code",
   "execution_count": 28,
   "id": "a13aaac0-3f52-42c5-962e-bf09c5a6a839",
   "metadata": {},
   "outputs": [
    {
     "name": "stdout",
     "output_type": "stream",
     "text": [
      "\n",
      "nih =\n",
      "\n",
      "   200\n",
      "\n",
      "\n",
      "njh =\n",
      "\n",
      "   100\n",
      "\n"
     ]
    }
   ],
   "source": [
    "% create a grid on which the topo is defined: either read from data or create on your own\n",
    "% % 1. read from data\n",
    "% grid_dir = [scradir '/subme_model/'];  \n",
    "% [grid, ~, ~] = read_grid_MOM([grid_dir '']); \n",
    "% ds_IC = ncstruct([grid_dir '/Initial_state.nc']);\n",
    "\n",
    "% 2. create\n",
    "% delda_m = 200; % m\n",
    "% [nih,njh] = deal(100,50); %2000x1000\n",
    "% xlim = [0 delda_m*nih/1e3]; % km\n",
    "% ylim = [0 delda_m*njh/1e3];\n",
    "delda_m = 2000; % [m] grid spacing\n",
    "xlim = [0 400]; % km\n",
    "ylim = [0 200];\n",
    "[nih, njh] = deal((xlim(2)-xlim(1))*1e3/delda_m, (ylim(2)-ylim(1))*1e3/delda_m)\n",
    "\n",
    "grid = build_grid_MOM(nih,njh,xlim,ylim);"
   ]
  },
  {
   "cell_type": "markdown",
   "id": "87041318-412b-4c0a-bf47-8167226df429",
   "metadata": {},
   "source": [
    "## create topography, with a submerged ridge \n",
    "see https://zenodo.org/records/8002828 or https://agupubs.onlinelibrary.wiley.com/doi/10.1029/2023MS003886"
   ]
  },
  {
   "cell_type": "code",
   "execution_count": 29,
   "id": "91bace1c-cce9-47ab-968c-0347060f54ad",
   "metadata": {},
   "outputs": [
    {
     "name": "stdout",
     "output_type": "stream",
     "text": [
      "\n",
      "ans =\n",
      "\n",
      "       80000\n",
      "\n"
     ]
    },
    {
     "data": {
      "image/png": "[encoded data removed]",
      "text/plain": [
       "<IPython.core.display.Image object>"
      ]
     },
     "metadata": {},
     "output_type": "display_data"
    }
   ],
   "source": [
    "% parameters\n",
    "Lx = (xlim(end) - xlim(1))*1e3; % [m]\n",
    "oce_depth = 3000; % [m] ocean depth\n",
    "ridge_H = 1500;    % height of ridge [m]\n",
    "% ---- the following two params are dependent on domain size\n",
    "ridge_L = 20*1e3;   % half width of ridge [m]\n",
    "delta_ridge = 4*1e3; % half width of the top face of ridge (shall be less than ridge_L) [m]\n",
    "doridge = 1;\n",
    "\n",
    "% ----\n",
    "[x, y] = deal(grid.lonh, grid.lath);\n",
    "x_meter = x*1e3;\n",
    "[nx, ny] = deal(length(x), length(y));\n",
    "depth = zeros(nx,ny);\n",
    "\n",
    "% \n",
    "ridge_x1d = zeros(nx,1);\n",
    "ratio = 5; % center of ridge is at 1/ratio of the domain (from west bndry)\n",
    "Lx / ratio\n",
    "for i = 1:nx\n",
    "    if (x_meter(i) > -ridge_L - delta_ridge + Lx / ratio) & (x_meter(i) < -delta_ridge + Lx / ratio) \n",
    "        ridge_x1d(i) = 0.5 * ridge_H * (1.0 + cos(pi * (x_meter(i) + Lx / ratio + delta_ridge) / ridge_L));\n",
    "    elseif (x_meter(i) > delta_ridge + Lx / ratio) & (x_meter(i) < ridge_L + delta_ridge + Lx / ratio)\n",
    "        ridge_x1d(i) = 0.5 * ridge_H * (1.0 + cos(pi * (x_meter(i) + Lx / ratio - delta_ridge) / ridge_L));\n",
    "    elseif (x_meter(i) >= -delta_ridge + Lx / ratio) & (x_meter(i) <= delta_ridge + Lx / ratio) % top face of ridge\n",
    "        ridge_x1d(i) = ridge_H;\n",
    "    end\n",
    "end\n",
    "\n",
    "% transfer to 2d depth [m]\n",
    "if doridge\n",
    "    depth = oce_depth - repmat(ridge_x1d, [1 njh]);\n",
    "else\n",
    "    depth = oce_depth*ones(nx,ny);\n",
    "end\n",
    "\n",
    "% ------ plot\n",
    "figure\n",
    "subplot(211)\n",
    "plot(x,ridge_x1d)\n",
    "xlabel('long [km]')\n",
    "ylabel('height of ridge above sea floor [m]')\n",
    "\n",
    "subplot(212)\n",
    "imagescn(x, y, depth'); \n",
    "% axis square;\n",
    "set(gca,'tickdir','out');\n",
    "cmocean('deep'); colorbar;\n",
    "xlabel('km')\n",
    "ylabel('km')\n",
    "title('depth')\n",
    "set(gcf,'PaperPositionMode','auto'); \n"
   ]
  },
  {
   "cell_type": "markdown",
   "id": "97240c70-2154-4bbb-b5c2-7aed928c38d5",
   "metadata": {},
   "source": [
    "## save the topo"
   ]
  },
  {
   "cell_type": "code",
   "execution_count": 31,
   "id": "d0268877-78d6-4771-af9b-4be1efc03785",
   "metadata": {},
   "outputs": [
    {
     "name": "stdout",
     "output_type": "stream",
     "text": [
      "Source:\n",
      "           /glade/u/home/yueyanglu/work_mlmodel/INPUT_2km_x400kmy200km/topog.nc\n",
      "Format:\n",
      "           classic\n",
      "Dimensions:\n",
      "           xh = 200\n",
      "           yh = 100\n",
      "Variables:\n",
      "    x    \n",
      "           Size:       200x1\n",
      "           Dimensions: xh\n",
      "           Datatype:   double\n",
      "           Attributes:\n",
      "                       long_name = 'longitude at cell centers'\n",
      "                       units     = 'km'\n",
      "    y    \n",
      "           Size:       100x1\n",
      "           Dimensions: yh\n",
      "           Datatype:   double\n",
      "           Attributes:\n",
      "                       long_name = 'latitude at cell centers'\n",
      "                       units     = 'km'\n",
      "    depth\n",
      "           Size:       200x100\n",
      "           Dimensions: xh,yh\n",
      "           Datatype:   double\n",
      "           Attributes:\n",
      "                       long_name = 'topographic depth at cell centers'\n",
      "                       units     = 'meters'\n"
     ]
    }
   ],
   "source": [
    "\n",
    "savefnm = 'INPUT_2km_x400kmy200km/topog.nc';\n",
    "ncbuild(savefnm, x, 'dimnames', {'xh'}, ...\n",
    "    'varatts', {'long_name', 'longitude at cell centers', 'units', 'km'});\n",
    "ncbuild(savefnm, y, 'dimnames', {'yh'}, ...\n",
    "    'varatts', {'long_name', 'latitude at cell centers', 'units', 'km'});\n",
    "ncbuild(savefnm, depth, 'name', 'depth', 'dimnames', {'xh','yh'}, ...\n",
    "    'varatts', {'long_name', 'topographic depth at cell centers', 'units', 'meters'});\n",
    "    \n",
    "ncdisp(savefnm)"
   ]
  },
  {
   "cell_type": "code",
   "execution_count": 12,
   "id": "8bf50993-afa8-4761-b63c-f406ab3a586e",
   "metadata": {},
   "outputs": [
    {
     "name": "stdout",
     "output_type": "stream",
     "text": [
      "\n",
      "ans =\n",
      "\n",
      "   1.0e+03 *\n",
      "\n",
      "         0\n",
      "         0\n",
      "         0\n",
      "         0\n",
      "    3.0000\n",
      "    3.0000\n",
      "    3.0000\n",
      "    3.0000\n",
      "    3.0000\n",
      "    3.0000\n",
      "    3.0000\n",
      "    3.0000\n",
      "    3.0000\n",
      "    3.0000\n",
      "    3.0000\n",
      "    3.0000\n",
      "    3.0000\n",
      "    3.0000\n",
      "    3.0000\n",
      "    3.0000\n",
      "    3.0000\n",
      "    3.0000\n",
      "    3.0000\n",
      "    3.0000\n",
      "    3.0000\n",
      "    3.0000\n",
      "    3.0000\n",
      "    3.0000\n",
      "    3.0000\n",
      "    3.0000\n",
      "    3.0000\n",
      "    3.0000\n",
      "    3.0000\n",
      "    3.0000\n",
      "    3.0000\n",
      "    3.0000\n",
      "    3.0000\n",
      "    3.0000\n",
      "    3.0000\n",
      "    3.0000\n",
      "    3.0000\n",
      "    3.0000\n",
      "    3.0000\n",
      "    3.0000\n",
      "    3.0000\n",
      "    3.0000\n",
      "    3.0000\n",
      "    3.0000\n",
      "    3.0000\n",
      "    3.0000\n",
      "    2.9764\n",
      "    2.4818\n",
      "    1.7719\n",
      "    1.5000\n",
      "    1.5000\n",
      "    1.7719\n",
      "    2.4818\n",
      "    2.9764\n",
      "    3.0000\n",
      "    3.0000\n",
      "    3.0000\n",
      "    3.0000\n",
      "    3.0000\n",
      "    3.0000\n",
      "    3.0000\n",
      "    3.0000\n",
      "    3.0000\n",
      "    3.0000\n",
      "    3.0000\n",
      "    3.0000\n",
      "    3.0000\n",
      "    3.0000\n",
      "    3.0000\n",
      "    3.0000\n",
      "    3.0000\n",
      "    3.0000\n",
      "    3.0000\n",
      "    3.0000\n",
      "    3.0000\n",
      "    3.0000\n",
      "    3.0000\n",
      "    3.0000\n",
      "    3.0000\n",
      "    3.0000\n",
      "    3.0000\n",
      "    3.0000\n",
      "    3.0000\n",
      "    3.0000\n",
      "    3.0000\n",
      "    3.0000\n",
      "    3.0000\n",
      "    3.0000\n",
      "    3.0000\n",
      "    3.0000\n",
      "    3.0000\n",
      "    3.0000\n",
      "    3.0000\n",
      "    3.0000\n",
      "    3.0000\n",
      "    3.0000\n",
      "    3.0000\n",
      "    3.0000\n",
      "    3.0000\n",
      "    3.0000\n",
      "         0\n",
      "         0\n",
      "         0\n",
      "         0\n",
      "\n"
     ]
    }
   ],
   "source": [
    "depth_al(:,22)"
   ]
  },
  {
   "cell_type": "code",
   "execution_count": null,
   "id": "d088b1b0-da06-488d-b6ef-cbe15d2221af",
   "metadata": {},
   "outputs": [],
   "source": []
  }
 ],
 "metadata": {
  "kernelspec": {
   "display_name": "Matlab R2023a",
   "language": "matlab",
   "name": "matlab-r2023a"
  },
  "language_info": {
   "codemirror_mode": "octave",
   "file_extension": ".m",
   "help_links": [
    {
     "text": "MetaKernel Magics",
     "url": "https://metakernel.readthedocs.io/en/latest/source/README.html"
    }
   ],
   "mimetype": "text/x-octave",
   "name": "matlab",
   "version": "0.17.1"
  }
 },
 "nbformat": 4,
 "nbformat_minor": 5
}
